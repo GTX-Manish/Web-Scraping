{
 "cells": [
  {
   "cell_type": "code",
   "execution_count": 9,
   "id": "7494c543",
   "metadata": {},
   "outputs": [],
   "source": [
    "import requests as rs\n",
    "from bs4 import BeautifulSoup"
   ]
  },
  {
   "cell_type": "code",
   "execution_count": 10,
   "id": "f8dc1be2",
   "metadata": {},
   "outputs": [],
   "source": [
    "page = rs.get(\"http://dataquestio.github.io/web-scraping-pages/simple.html\")"
   ]
  },
  {
   "cell_type": "code",
   "execution_count": 11,
   "id": "9117f8af",
   "metadata": {},
   "outputs": [
    {
     "data": {
      "text/plain": [
       "b'<!DOCTYPE html>\\n<html>\\n    <head>\\n        <title>A simple example page</title>\\n    </head>\\n    <body>\\n        <p>Here is some simple content for this page.</p>\\n    </body>\\n</html>'"
      ]
     },
     "execution_count": 11,
     "metadata": {},
     "output_type": "execute_result"
    }
   ],
   "source": [
    "page.content"
   ]
  },
  {
   "cell_type": "code",
   "execution_count": 13,
   "id": "68a8c766",
   "metadata": {},
   "outputs": [],
   "source": [
    "soup = BeautifulSoup(page.content, 'html.parser')"
   ]
  },
  {
   "cell_type": "code",
   "execution_count": 16,
   "id": "968481b9",
   "metadata": {},
   "outputs": [
    {
     "name": "stdout",
     "output_type": "stream",
     "text": [
      "<!DOCTYPE html>\n",
      "<html>\n",
      " <head>\n",
      "  <title>\n",
      "   A simple example page\n",
      "  </title>\n",
      " </head>\n",
      " <body>\n",
      "  <p>\n",
      "   Here is some simple content for this page.\n",
      "  </p>\n",
      " </body>\n",
      "</html>\n"
     ]
    }
   ],
   "source": [
    "print(soup.prettify())"
   ]
  },
  {
   "cell_type": "code",
   "execution_count": 21,
   "id": "520a62bb",
   "metadata": {},
   "outputs": [
    {
     "data": {
      "text/plain": [
       "['html',\n",
       " '\\n',\n",
       " <html>\n",
       " <head>\n",
       " <title>A simple example page</title>\n",
       " </head>\n",
       " <body>\n",
       " <p>Here is some simple content for this page.</p>\n",
       " </body>\n",
       " </html>]"
      ]
     },
     "execution_count": 21,
     "metadata": {},
     "output_type": "execute_result"
    }
   ],
   "source": [
    "list(soup.children)"
   ]
  },
  {
   "cell_type": "code",
   "execution_count": 31,
   "id": "8e32cdf4",
   "metadata": {},
   "outputs": [],
   "source": [
    "html = list(soup.children)[2]"
   ]
  },
  {
   "cell_type": "code",
   "execution_count": 33,
   "id": "2b19174e",
   "metadata": {},
   "outputs": [
    {
     "data": {
      "text/plain": [
       "<html>\n",
       "<head>\n",
       "<title>A simple example page</title>\n",
       "</head>\n",
       "<body>\n",
       "<p>Here is some simple content for this page.</p>\n",
       "</body>\n",
       "</html>"
      ]
     },
     "execution_count": 33,
     "metadata": {},
     "output_type": "execute_result"
    }
   ],
   "source": [
    "html"
   ]
  },
  {
   "cell_type": "code",
   "execution_count": 35,
   "id": "32db56ac",
   "metadata": {},
   "outputs": [],
   "source": [
    "body = list(html.children)[3]"
   ]
  },
  {
   "cell_type": "code",
   "execution_count": 37,
   "id": "0e7e8fdd",
   "metadata": {},
   "outputs": [
    {
     "data": {
      "text/plain": [
       "['\\n', <p>Here is some simple content for this page.</p>, '\\n']"
      ]
     },
     "execution_count": 37,
     "metadata": {},
     "output_type": "execute_result"
    }
   ],
   "source": [
    "list(body.children)"
   ]
  },
  {
   "cell_type": "code",
   "execution_count": 38,
   "id": "7a42e0ea",
   "metadata": {},
   "outputs": [],
   "source": [
    "p = list(body.children)[1]"
   ]
  },
  {
   "cell_type": "code",
   "execution_count": 54,
   "id": "8981ae94",
   "metadata": {},
   "outputs": [
    {
     "data": {
      "text/plain": [
       "'Here is some simple content for this page.'"
      ]
     },
     "execution_count": 54,
     "metadata": {},
     "output_type": "execute_result"
    }
   ],
   "source": [
    "p.get_text()"
   ]
  },
  {
   "cell_type": "code",
   "execution_count": 58,
   "id": "2ae6f477",
   "metadata": {},
   "outputs": [
    {
     "data": {
      "text/plain": [
       "'Here is some simple content for this page.'"
      ]
     },
     "execution_count": 58,
     "metadata": {},
     "output_type": "execute_result"
    }
   ],
   "source": [
    "soup.find_all('p')[0].get_text()"
   ]
  },
  {
   "cell_type": "code",
   "execution_count": 61,
   "id": "dd564935",
   "metadata": {},
   "outputs": [
    {
     "data": {
      "text/plain": [
       "'Here is some simple content for this page.'"
      ]
     },
     "execution_count": 61,
     "metadata": {},
     "output_type": "execute_result"
    }
   ],
   "source": [
    "soup.find('p').get_text()"
   ]
  },
  {
   "cell_type": "code",
   "execution_count": 66,
   "id": "97869e11",
   "metadata": {},
   "outputs": [
    {
     "data": {
      "text/plain": [
       "<html>\n",
       "<head>\n",
       "<title>A simple example page</title>\n",
       "</head>\n",
       "<body>\n",
       "<div>\n",
       "<p class=\"inner-text first-item\" id=\"first\">\n",
       "                First paragraph.\n",
       "            </p>\n",
       "<p class=\"inner-text\">\n",
       "                Second paragraph.\n",
       "            </p>\n",
       "</div>\n",
       "<p class=\"outer-text first-item\" id=\"second\">\n",
       "<b>\n",
       "                First outer paragraph.\n",
       "            </b>\n",
       "</p>\n",
       "<p class=\"outer-text\">\n",
       "<b>\n",
       "                Second outer paragraph.\n",
       "            </b>\n",
       "</p>\n",
       "</body>\n",
       "</html>"
      ]
     },
     "execution_count": 66,
     "metadata": {},
     "output_type": "execute_result"
    }
   ],
   "source": [
    "page = rs.get(\"http://dataquestio.github.io/web-scraping-pages/ids_and_classes.html\")\n",
    "soup = BeautifulSoup(page.content, 'html.parser')\n",
    "soup"
   ]
  },
  {
   "cell_type": "code",
   "execution_count": 83,
   "id": "d2f0211b",
   "metadata": {},
   "outputs": [
    {
     "data": {
      "text/plain": [
       "[<body>\n",
       " <div>\n",
       " <p class=\"inner-text first-item\" id=\"first\">\n",
       "                 First paragraph.\n",
       "             </p>\n",
       " <p class=\"inner-text\">\n",
       "                 Second paragraph.\n",
       "             </p>\n",
       " </div>\n",
       " <p class=\"outer-text first-item\" id=\"second\">\n",
       " <b>\n",
       "                 First outer paragraph.\n",
       "             </b>\n",
       " </p>\n",
       " <p class=\"outer-text\">\n",
       " <b>\n",
       "                 Second outer paragraph.\n",
       "             </b>\n",
       " </p>\n",
       " </body>]"
      ]
     },
     "execution_count": 83,
     "metadata": {},
     "output_type": "execute_result"
    }
   ],
   "source": [
    "soup.select(\"body\")"
   ]
  },
  {
   "cell_type": "code",
   "execution_count": 107,
   "id": "1cf6a62f",
   "metadata": {},
   "outputs": [
    {
     "name": "stdout",
     "output_type": "stream",
     "text": [
      "<div class=\"tombstone-container\">\n",
      " <p class=\"period-name\">\n",
      "  Today\n",
      "  <br/>\n",
      "  <br/>\n",
      " </p>\n",
      " <p>\n",
      "  <img alt=\"Today: A 30 percent chance of showers before 10am.  Partly sunny, with a high near 50. North wind 5 to 10 mph becoming west southwest in the afternoon. \" class=\"forecast-icon\" src=\"DualImage.php?i=shra&amp;j=bkn&amp;ip=30\" title=\"Today: A 30 percent chance of showers before 10am.  Partly sunny, with a high near 50. North wind 5 to 10 mph becoming west southwest in the afternoon. \"/>\n",
      " </p>\n",
      " <p class=\"short-desc\">\n",
      "  Chance\n",
      "  <br/>\n",
      "  Showers then\n",
      "  <br/>\n",
      "  Partly Sunny\n",
      " </p>\n",
      " <p class=\"temp temp-high\">\n",
      "  High: 50 °F\n",
      " </p>\n",
      "</div>\n"
     ]
    }
   ],
   "source": [
    "page = rs.get(\"http://forecast.weather.gov/MapClick.php?lat=37.7772&lon=-122.4168\")\n",
    "soup = BeautifulSoup(page.content, 'html.parser')\n",
    "seven_day = soup.find(id = \"seven-day-forecast\")\n",
    "forecast = seven_day.find_all(class_ = \"tombstone-container\")\n",
    "today = forecast[0]\n",
    "print(today.prettify())"
   ]
  },
  {
   "cell_type": "code",
   "execution_count": 25,
   "id": "860ed4c0",
   "metadata": {},
   "outputs": [
    {
     "data": {
      "text/plain": [
       "b'<!DOCTYPE html>\\n<html class=\"no-js\">\\n    <head>\\n        <!-- Meta -->\\n        <meta name=\"viewport\" content=\"width=device-width\">\\n        <link rel=\"schema.DC\" href=\"http://purl.org/dc/elements/1.1/\" /><title>National Weather Service</title><meta name=\"DC.title\" content=\"National Weather Service\" /><meta name=\"DC.description\" content=\"NOAA National Weather Service National Weather Service\" /><meta name=\"DC.creator\" content=\"US Department of Commerce, NOAA, National Weather Service\" /><meta name=\"DC.date.created\" scheme=\"ISO8601\" content=\"\" /><meta name=\"DC.language\" scheme=\"DCTERMS.RFC1766\" content=\"EN-US\" /><meta name=\"DC.keywords\" content=\"weather, National Weather Service\" /><meta name=\"DC.publisher\" content=\"NOAA\\'s National Weather Service\" /><meta name=\"DC.contributor\" content=\"National Weather Service\" /><meta name=\"DC.rights\" content=\"//www.weather.gov/disclaimer.php\" /><meta name=\"rating\" content=\"General\" /><meta name=\"robots\" content=\"index,follow\" />\\n\\n        <!-- Icons -->\\n        <link rel=\"shortcut icon\" href=\"./images/favicon.ico\" type=\"image/x-icon\" />\\n\\n        <!-- CSS -->\\n        <link rel=\"stylesheet\" href=\"css/bootstrap-3.2.0.min.css\">\\n        <link rel=\"stylesheet\" href=\"css/bootstrap-theme-3.2.0.min.css\">\\n        <link rel=\"stylesheet\" href=\"css/font-awesome-4.3.0.min.css\">\\n        <link rel=\"stylesheet\" href=\"css/ol-4.6.4.css\" type=\"text/css\">\\n        <link rel=\"stylesheet\" type=\"text/css\" href=\"css/mapclick.css\" />\\n        <!--[if lte IE 7]><link rel=\"stylesheet\" type=\"text/css\" href=\"css/bootstrap-ie7.css\" /><![endif]-->\\n        <!--[if lte IE 9]><link rel=\"stylesheet\" type=\"text/css\" href=\"css/mapclick-ie.css\" /><![endif]-->\\n        <link rel=\"stylesheet\" type=\"text/css\" href=\"css/print.css\" />\\n        <link rel=\"stylesheet\" type=\"text/css\" href=\"css/search.css\" />\\n\\n        <!-- Javascript -->\\n        <script type=\"text/javascript\" src=\"js/lib/modernizr-2.8.3.js\"></script>\\n        <script type=\"text/javascript\" src=\"js/lib/json3-3.3.2.min.js\"></script>\\n        <script type=\"text/javascript\" src=\"js/lib/jquery-1.11.3.min.js\"></script>\\n        <script type=\"text/javascript\" src=\"js/lib/jquery.hoverIntent-1.8.1.min.js\"></script>\\n        <script type=\"text/javascript\" src=\"js/lib/bootstrap-3.2.0.min.js\"></script>\\n        <script type=\"text/javascript\" src=\"js/lib/ol-4.6.4.js\"></script>\\n        <!--[if lte IE 8]><script type=\"text/javascript\" src=\"js/respond.min.js\"></script><![endif]-->\\n        <script type=\"text/javascript\" src=\"js/jquery.autocomplete.min.js\"></script>\\n        <script type=\"text/javascript\" src=\"js/cfisurvey/cfi.js?v2\"></script>\\n        <script type=\"text/javascript\" src=\"js/forecast.esri.js\"></script>\\n        <script type=\"text/javascript\" src=\"js/forecast.search.js\"></script>\\n        <script type=\"text/javascript\" src=\"js/forecast.openlayers.js\"></script>\\n        <script type=\"text/javascript\" src=\"js/browserSniffer.js\"></script>\\n        <script type=\"text/javascript\" id=\"_fed_an_ua_tag\" src=\"https://dap.digitalgov.gov/Universal-Federated-Analytics-Min.js?agency=DOC&subagency=NOAA\"></script>\\n        <script type=\"text/javascript\">\\n            // GoogleAnalyticsObject is defined in the federated analytics script, but PUA option not used as forecast UA needs sampleRate\\n            window[window[\\'GoogleAnalyticsObject\\']](\\'create\\', \\'UA-40768555-1\\', \\'weather.gov\\', {\\'sampleRate\\': 6});\\n            window[window[\\'GoogleAnalyticsObject\\']](\\'set\\', \\'anonymizeIp\\', true);\\n            window[window[\\'GoogleAnalyticsObject\\']](\\'require\\', \\'linkid\\');\\n            window[window[\\'GoogleAnalyticsObject\\']](\\'send\\', \\'pageview\\');\\n        </script>\\n        <script type=\"javascript\">\\n// ForeSee Staging Embed Script v2.01\\n// DO NOT MODIFY BELOW THIS LINE *****************************************\\n;(function (g) {\\n  var d = document, am = d.createElement(\\'script\\'), h = d.head || d.getElementsByTagName(\"head\")[0], fsr = \\'fsReady\\',\\n  aex = { \\n    \"src\": \"//gateway.foresee.com/sites/weather-gov/production/gateway.min.js\",\\n    \"type\": \"text/javascript\", \\n    \"async\": \"true\", \\n    \"data-vendor\": \"fs\", \\n    \"data-role\": \"gateway\" \\n  };\\n  for (var attr in aex) { am.setAttribute(attr, aex[attr]); } h.appendChild(am); g[fsr] || (g[fsr] = function () { var aT = \\'__\\' + fsr + \\'_stk__\\'; g[aT] = g[aT] || []; g[aT].push(arguments); });\\n})(window);\\n// DO NOT MODIFY ABOVE THIS LINE *****************************************\\n</script>\\n    </head>\\n    <body>\\n        <main class=\"container\">\\n                    <header class=\"row clearfix\" id=\"page-header\">\\n            <a href=\"//www.noaa.gov\" id=\"header-noaa\" class=\"pull-left\"><img src=\"/css/images/header_noaa.png\" alt=\"National Oceanic and Atmospheric Administration\"/></a>\\n            <a href=\"//www.weather.gov\" id=\"header-nws\" class=\"pull-left\"><img src=\"/css/images/header_nws.png\" alt=\"National Weather Service\"/></a>\\n            <a href=\"//www.commerce.gov\" id=\"header-doc\" class=\"pull-right\"><img src=\"/css/images/header_doc.png\" alt=\"United States Department of Commerce\"/></a>\\n        </header>\\n        \\n                    <nav class=\"navbar navbar-default row\" role=\"navigation\">\\n            <div class=\"container-fluid\">\\n                <div class=\"navbar-header\">\\n                    <button type=\"button\" class=\"navbar-toggle collapsed\" data-toggle=\"collapse\" data-target=\"#top-nav\">\\n                        <span class=\"sr-only\">Toggle navigation</span>\\n                        <span class=\"icon-bar\"></span>\\n                        <span class=\"icon-bar\"></span>\\n                        <span class=\"icon-bar\"></span>\\n                    </button>\\n                </div>\\n                <div class=\"collapse navbar-collapse\" id=\"top-nav\">\\n                    <ul class=\"nav navbar-nav\">\\n                        <li><a href=\"//www.weather.gov\">HOME</a></li>\\n                        <li class=\"dropdown\"><a href=\"http://www.weather.gov/forecastmaps\" class=\"dropdown-toggle\" data-toggle=\"dropdown\">FORECAST&nbsp;<span class=\"caret\"></span></a><ul class=\"dropdown-menu\" role=\"menu\"><li><a href=\"http://www.weather.gov\">Local</a></li><li><a href=\"http://digital.weather.gov\">Graphical</a></li><li><a href=\"http://www.aviationweather.gov/\">Aviation</a></li><li><a href=\"http://www.weather.gov/marine\">Marine</a></li><li><a href=\"http://water.weather.gov/ahps/\">Rivers and Lakes</a></li><li><a href=\"http://www.nhc.noaa.gov/\">Hurricanes</a></li><li><a href=\"http://www.spc.noaa.gov/\">Severe Weather</a></li><li><a href=\"http://www.weather.gov/fire/\">Fire Weather</a></li><li><a href=\"https://www.esrl.noaa.gov/gmd/grad/solcalc/sunrise.html\">Sun/Moon</a></li><li><a href=\"http://www.cpc.ncep.noaa.gov/\">Long Range Forecasts</a></li><li><a href=\"http://www.cpc.ncep.noaa.gov\">Climate Prediction</a></li><li><a href=\"https://www.swpc.noaa.gov/\">Space Weather</a></li></ul>                            </li>\\n                            <li class=\"dropdown\"><a href=\"https://www.weather.gov/wrh/climate/\" class=\"dropdown-toggle\" data-toggle=\"dropdown\">PAST WEATHER&nbsp;<span class=\"caret\"></span></a><ul class=\"dropdown-menu\" role=\"menu\"><li><a href=\"https://www.weather.gov/wrh/climate/\">Past Weather</a></li><li><a href=\"https://www.weather.gov/wrh/climate/\">Heating/Cooling Days</a></li><li><a href=\"https://www.weather.gov/wrh/climate/\">Monthly Temperatures</a></li><li><a href=\"https://www.weather.gov/wrh/climate/\">Records</a></li><li><a href=\"http://aa.usno.navy.mil/\">Astronomical Data</a></li></ul>                            </li>\\n                            <li class=\"dropdown\"><a href=\"http://www.weather.gov/safety\" class=\"dropdown-toggle\" data-toggle=\"dropdown\">SAFETY&nbsp;<span class=\"caret\"></span></a><ul class=\"dropdown-menu\" role=\"menu\"><li><a href=\"https://www.weather.gov/safety/flood\">Floods</a></li><li><a href=\"https://www.weather.gov/safety/tsunami\">Tsunamis</a></li><li><a href=\"https://www.weather.gov/safety/beachhazards\">Beach Hazards</a></li><li><a href=\"https://www.weather.gov/safety/wildfire\">Wildfire</a></li><li><a href=\"https://www.weather.gov/safety/cold\">Cold</a></li><li><a href=\"https://www.weather.gov/safety/tornado\">Tornadoes</a></li><li><a href=\"https://www.weather.gov/safety/airquality\">Air Quality</a></li><li><a href=\"https://www.weather.gov/safety/fog\">Fog</a></li><li><a href=\"https://www.weather.gov/safety/heat\">Heat</a></li><li><a href=\"https://www.weather.gov/safety/hurricane\">Hurricanes</a></li><li><a href=\"https://www.weather.gov/safety/lightning\">Lightning</a></li><li><a href=\"https://www.weather.gov/safety/safeboating\">Safe Boating</a></li><li><a href=\"https://www.weather.gov/safety/ripcurrent\">Rip Currents</a></li><li><a href=\"https://www.weather.gov/safety/thunderstorm\">Thunderstorms</a></li><li><a href=\"https://www.weather.gov/safety/space\">Space Weather</a></li><li><a href=\"https://www.weather.gov/safety/heat-uv\">Sun (Ultraviolet Radiation)</a></li><li><a href=\"http://www.weather.gov/safetycampaign\">Safety Campaigns</a></li><li><a href=\"https://www.weather.gov/safety/wind\">Wind</a></li><li><a href=\"https://www.weather.gov/safety/drought\">Drought</a></li><li><a href=\"https://www.weather.gov/safety/winter\">Winter Weather</a></li></ul>                            </li>\\n                            <li class=\"dropdown\"><a href=\"http://www.weather.gov/informationcenter\" class=\"dropdown-toggle\" data-toggle=\"dropdown\">INFORMATION&nbsp;<span class=\"caret\"></span></a><ul class=\"dropdown-menu\" role=\"menu\"><li><a href=\"http://www.weather.gov/wrn/wea\">Wireless Emergency Alerts</a></li><li><a href=\"https://www.weather.gov/owlie/publication_brochures\">Brochures</a></li><li><a href=\"http://www.weather.gov/wrn/\">Weather-Ready Nation</a></li><li><a href=\"https://www.weather.gov/coop/\">Cooperative Observers</a></li><li><a href=\"http://www.weather.gov/briefing/\">Daily Briefing</a></li><li><a href=\"http://www.nws.noaa.gov/om/hazstats.shtml\">Damage/Fatality/Injury Statistics</a></li><li><a href=\"http://mag.ncep.noaa.gov/\">Forecast Models</a></li><li><a href=\"https://www.weather.gov/gis\">GIS Data Portal</a></li><li><a href=\"https://www.weather.gov/nwr/\">NOAA Weather Radio</a></li><li><a href=\"http://weather.gov/publications\">Publications</a></li><li><a href=\"http://www.weather.gov/SKYWARN\">SKYWARN Storm Spotters</a></li><li><a href=\"http://www.weather.gov/StormReady\">StormReady</a></li><li><a href=\"https://www.weather.gov/TsunamiReady/\">TsunamiReady</a></li><li><a href=\"https://www.weather.gov/notification/\">Service Change Notices</a></li></ul>                            </li>\\n                            <li class=\"dropdown\"><a href=\"http://www.weather.gov/education\" class=\"dropdown-toggle\" data-toggle=\"dropdown\">EDUCATION&nbsp;<span class=\"caret\"></span></a><ul class=\"dropdown-menu\" role=\"menu\"><li><a href=\"https://www.weather.gov/wrn/force\">Be A Force of Nature</a></li><li><a href=\"http://www.weather.gov/owlie\">NWS Education Home</a></li></ul>                            </li>\\n                            <li class=\"dropdown\"><a href=\"http://www.weather.gov/news/\" class=\"dropdown-toggle\" data-toggle=\"dropdown\">NEWS&nbsp;<span class=\"caret\"></span></a><ul class=\"dropdown-menu\" role=\"menu\"><li><a href=\"http://www.weather.gov/news\">NWS News</a></li><li><a href=\"https://www.weather.gov/wrn/calendar\">Events</a></li><li><a href=\"http://www.weather.gov/socialmedia\">Social Media</a></li><li><a href=\"https://www.weather.gov/owlie/publication_brochures\">Pubs/Brochures/Booklets </a></li><li><a href=\"http://www.noaa.gov/NOAA-Communications\">NWS Media Contacts</a></li></ul>                            </li>\\n                            <li class=\"dropdown\"><a href=\"http://www.weather.gov/search\" class=\"dropdown-toggle\" data-toggle=\"dropdown\">SEARCH&nbsp;<span class=\"caret\"></span></a><ul class=\"dropdown-menu\" role=\"menu\">                                <li><!-- Begin search code -->\\n                                    <div id=\"site-search\">\\n                                        <form method=\"get\" action=\"//search.usa.gov/search\" style=\"margin-bottom: 0; margin-top: 0;\">\\n                                            <input type=\"hidden\" name=\"v:project\" value=\"firstgov\" />\\n                                            <label for=\"query\">Search For</label>\\n                                            <input type=\"text\" name=\"query\" id=\"query\" size=\"12\" />\\n                                            <input type=\"submit\" value=\"Go\" />\\n                                            <p>\\n                                                <input type=\"radio\" name=\"affiliate\" checked=\"checked\" value=\"nws.noaa.gov\" id=\"nws\" />\\n                                                <label for=\"nws\" class=\"search-scope\">NWS</label>\\n                                                <input type=\"radio\" name=\"affiliate\" value=\"noaa.gov\" id=\"noaa\" />\\n                                                <label for=\"noaa\" class=\"search-scope\">All NOAA</label>\\n                                            </p>\\n                                        </form>\\n                                    </div>\\n                                </li>\\n                                </ul>                            </li>\\n                            <li class=\"dropdown\"><a href=\"http://www.weather.gov/about\" class=\"dropdown-toggle\" data-toggle=\"dropdown\">ABOUT&nbsp;<span class=\"caret\"></span></a><ul class=\"dropdown-menu\" role=\"menu\"><li><a href=\"http://www.weather.gov/about\">About NWS</a></li><li><a href=\"http://www.weather.gov/organization\">Organization</a></li><li><a href=\"https://www.weather.gov/media/wrn/NWS_Weather-Ready-Nation_Strategic_Plan_2019-2022.pdf\">Strategic Plan</a></li><li><a href=\"http://www.weather.gov/careers/#diversity\">Commitment to Diversity</a></li><li><a href=\"https://sites.google.com/a/noaa.gov/nws-insider/\">For NWS Employees</a></li><li><a href=\"http://www.weather.gov/insider\">International</a></li><li><a href=\"http://www.weather.gov/organization\">National Centers</a></li><li><a href=\"http://www.weather.gov/careers/\">Careers</a></li><li><a href=\"http://www.weather.gov/contact\">Contact Us</a></li><li><a href=\"https://w1.weather.gov/glossary\">Glossary</a></li></ul>                            </li>\\n                                                </ul>\\n                </div>\\n            </div>\\n        </nav>\\n        \\n        <div class=\"contentArea\">\\n            <!-- Start Forecastsearch -->\\n    <div class=\"\" id=\"fcst-search\">\\n        <form name=\"getForecast\" id=\"getForecast\" class=\"form-inline\" role=\"form\" action=\"https://forecast.weather.gov/zipcity.php\" method=\"get\">\\n        <div id=\"getfcst-body\">\\n            <input name=\"inputstring\" type=\"text\" class=\"form-control\" id=\"inputstring\" placeholder=\"\" />\\n            <input name=\"btnSearch\" id=\"btnSearch\" class=\"btn btn-default\" type=\"submit\" value=\"Go\" />\\n            <div id=\"txtHelp\"><a href=\"javascript:void(window.open(\\'http://weather.gov/ForecastSearchHelp.html\\',\\'locsearchhelp\\',\\'status=0,toolbar=0,location=0,menubar=0,directories=0,resizable=1,scrollbars=1,height=500,width=530\\').focus());\">View Location Examples</a></div>\\n        </div>\\n        <div id=\"txtError\">\\n            <div id=\"errorNoResults\" style=\"display:none;\">Sorry, the location you searched for was not found. Please try another search.</div>\\n            <div id=\"errorMultipleResults\" style=\"display:none\">Multiple locations were found. Please select one of the following:</div>\\n            <div id=\"errorChoices\" style=\"display:none\"></div>\\n            <input id=\"btnCloseError\" type=\"button\" value=\"Close\" style=\"display:none\" />\\n        </div>\\n        <div id=\"getfcst-head\">\\n            <p>Your local forecast office is</p>\\n            <h3 id=\"getfcst-headOffice\"></h3>\\n        </div>\\n        </form>\\n    </div>\\n    <!-- end Forecastsearch -->\\n        \\n        <link rel=\"stylesheet\" type=\"text/css\" href=\"/css/topnews.css\">\\n<div id=\"news-items\">\\n    <div id=\"topnews\">\\n    <div class=\"icon\"><img src=\"/images/news-important.jpg\"></div>\\n    <div class=\"body\">\\n        <h1 style=\"font-size: 11pt;\">Heavy and Blowing Snow Across North-Central US; Fire Weather in Southern Plains</h1>\\n        <p>\\n            Snow and mixed precipitation will impact most of the north-central US into the Ohio Valley. Rain and snow will move into parts of the Mid-Atlantic by Monday evening into Tuesday. Strong wind, low humidity, and dry fuels will contribute to the areas of Elevated and Critical Risk of fire weather in the Southern High Plains. \\r\\n\\n            <a href=\"http://www.wpc.ncep.noaa.gov/discussions/hpcdiscussions.php?disc=pmdspd\" target=\"_blank\">Read More &gt;</a>\\n        </p>\\n    </div>\\n</div>\\n\\n</div>\\n        <script type=\"text/javascript\">(function ($) { var topnews = $(\"#topnews\"); topnews.hide(); $.get(\"siteNews.php\", {a:\"mtr\"},function(response){ if (response !== \"false\") topnews.replaceWith($(response)); topnews.show(); }); })(jQuery);</script><!-- PageFormat-Land -->\\n<script language=javascript>document.title = \\'7-Day Forecast 37.77N 122.41W\\';</script><img src=\"images/track_land_point.png\" style=\"display:none;\" />\\n<div id=\"quickLinks\">\\n    <span class=\"lang-spanish\"><a href=\"//forecast.weather.gov/MapClick.php?lat=37.7772&lon=-122.4168&lg=sp\">En Espa&ntilde;ol</a></span>\\n    <div class=\"addthis_toolbox addthis_default_style addthis-forecast\">\\n        <a href=\"//www.addthis.com/bookmark.php?v=250&amp;pubid=ra-5127a6364d551d04\" class=\"addthis_button_compact\">Share</a>\\n        <span class=\"addthis_separator\">|</span>\\n        <a class=\"addthis_button_preferred_1\"></a>\\n        <a class=\"addthis_button_preferred_2\"></a>\\n        <a class=\"addthis_button_preferred_3\"></a>\\n        <a class=\"addthis_button_preferred_4\"></a>\\n        <a class=\"addthis_button_preferred_5\"></a>\\n    </div>\\n    <script type=\"text/javascript\">\\n        var addthis_config = addthis_config || {data_track_addressbar:true, pubid: \\'xa-4b05b2d91f18c9cc\\'};\\n        $(document).ready(function(){\\n            jQuery.ajax({\\n                url: \"//s7.addthis.com/js/300/addthis_widget.js#async=1\",\\n                dataType: \"script\",\\n                cache: false\\n            });\\n        });\\n    </script>\\n</div>\\n\\n<!-- Current Conditions -->\\n<div id=\"current-conditions\" class=\"panel panel-default\">\\n\\n    <!-- Current Conditions header row -->\\n    <div class=\"panel-heading\">\\n        <div>\\n            <b>Current conditions at</b>\\n            <h2 class=\"panel-title\">SAN FRANCISCO DOWNTOWN (SFOC1)</h2>\\n            <span class=\"smallTxt\"><b>Lat:&nbsp;</b>37.77056&deg;N<b>Lon:&nbsp;</b>122.42694&deg;W<b>Elev:&nbsp;</b>150ft.</span>\\n        </div>\\n    </div>\\n    <div class=\"panel-body\" id=\"current-conditions-body\">\\n        <!-- Graphic and temperatures -->\\n        <div id=\"current_conditions-summary\" class=\"pull-left\" >\\n                        <p class=\"myforecast-current\">NA</p>\\n            <p class=\"myforecast-current-lrg\">43&deg;F</p>\\n            <p class=\"myforecast-current-sm\">6&deg;C</p>\\n        </div>\\n        <div id=\"current_conditions_detail\" class=\"pull-left\">\\n            <table>\\n            <tr>\\n            <td class=\"text-right\"><b>Humidity</b></td>\\n            <td>79%</td>\\n            </tr>\\n            <tr>\\n            <td class=\"text-right\"><b>Wind Speed</b></td>\\n            <td>NA NA MPH</td>\\n            </tr>\\n            <tr>\\n            <td class=\"text-right\"><b>Barometer</b></td>\\n            <td>NA</td>\\n            </tr>\\n            <tr>\\n            <td class=\"text-right\"><b>Dewpoint</b></td>\\n            <td>36&deg;F (2&deg;C)</td>\\n            </tr>\\n            <tr>\\n            <td class=\"text-right\"><b>Visibility</b></td>\\n            <td>NA</td>\\n            </tr>\\n                        <tr>\\n            <td class=\"text-right\"><b>Last update</b></td>\\n            <td>\\n                06 Mar 02:43 AM PST            </td>\\n            </tr>\\n            </table>\\n        </div>\\n        <div id=\"current_conditions_station\">\\n            <div class=\"current-conditions-extra\">\\n                            <!-- Right hand section -->\\n            <p class=\"moreInfo\"><b>More Information:</b></p><p><a id=\"localWFO\" href=\"https://www.weather.gov/mtr\" title=\"San Francisco Bay Area/Monterey, CA\"><span class=\"hideText\">Local</span> Forecast Office</a><a id=\"moreWx\" href=\"https://www.weather.gov/wrh/LocalWeather?zone=CAZ006\">More Local Wx</a><a href=\"https://www.wrh.noaa.gov/mesowest/getobext.php?wfo=mtr&sid=SFOC1&num=72&raw=0\">3 Day History</a><a id=\"mobileWxLink\" href=\"//mobile.weather.gov/index.php?lat=37.7772&lon=-122.4168&unit=0&lg=english\">Mobile Weather</a><a id=\"wxGraph\" href=\"MapClick.php?lat=37.7772&lon=-122.4168&unit=0&amp;lg=english&amp;FcstType=graphical\">Hourly <span class=\"hideText\">Weather </span>Forecast</a></p>            </div>\\n        <!-- /current_conditions_station -->\\n        </div>\\n        <!-- /current-conditions-body -->\\n    </div>\\n<!-- /Current Conditions -->\\n</div>\\n\\n<!-- 7-Day Forecast -->\\n<div id=\"seven-day-forecast\" class=\"panel panel-default\">\\n    <div class=\"panel-heading\">\\n    <b>Extended Forecast for</b>\\n    <h2 class=\"panel-title\">\\n                San Francisco CA    </h2>\\n    </div>\\n    <div class=\"panel-body\" id=\"seven-day-forecast-body\">\\n            <div id=\"seven-day-forecast-container\"><ul id=\"seven-day-forecast-list\" class=\"list-unstyled\"><li class=\"forecast-tombstone\">\\n<div class=\"tombstone-container\">\\n<p class=\"period-name\">Overnight<br><br></p>\\n<p><img src=\"newimages/medium/nshra40.png\" alt=\"Overnight: A 40 percent chance of showers.  Mostly cloudy, with a low around 42. South wind around 6 mph.  New precipitation amounts of less than a tenth of an inch possible. \" title=\"Overnight: A 40 percent chance of showers.  Mostly cloudy, with a low around 42. South wind around 6 mph.  New precipitation amounts of less than a tenth of an inch possible. \" class=\"forecast-icon\"></p><p class=\"short-desc\">Chance<br>Showers</p><p class=\"temp temp-low\">Low: 42 &deg;F</p></div></li><li class=\"forecast-tombstone\">\\n<div class=\"tombstone-container\">\\n<p class=\"period-name\">Monday<br><br></p>\\n<p><img src=\"newimages/medium/ra40.png\" alt=\"Monday: A 40 percent chance of rain.  Partly sunny, with a high near 53. Southwest wind 5 to 10 mph.  New precipitation amounts between a tenth and quarter of an inch possible. \" title=\"Monday: A 40 percent chance of rain.  Partly sunny, with a high near 53. Southwest wind 5 to 10 mph.  New precipitation amounts between a tenth and quarter of an inch possible. \" class=\"forecast-icon\"></p><p class=\"short-desc\">Chance Rain</p><p class=\"temp temp-high\">High: 53 &deg;F</p></div></li><li class=\"forecast-tombstone\">\\n<div class=\"tombstone-container\">\\n<p class=\"period-name\">Monday<br>Night</p>\\n<p><img src=\"newimages/medium/nra30.png\" alt=\"Monday Night: A 30 percent chance of rain.  Mostly cloudy, with a low around 42. Southwest wind around 7 mph.  New precipitation amounts of less than a tenth of an inch possible. \" title=\"Monday Night: A 30 percent chance of rain.  Mostly cloudy, with a low around 42. Southwest wind around 7 mph.  New precipitation amounts of less than a tenth of an inch possible. \" class=\"forecast-icon\"></p><p class=\"short-desc\">Chance Rain</p><p class=\"temp temp-low\">Low: 42 &deg;F</p></div></li><li class=\"forecast-tombstone\">\\n<div class=\"tombstone-container\">\\n<p class=\"period-name\">Tuesday<br><br></p>\\n<p><img src=\"DualImage.php?i=bkn&j=ra&jp=30\" alt=\"Tuesday: A 30 percent chance of rain after 4pm.  Partly sunny, with a high near 52. West southwest wind 5 to 8 mph. \" title=\"Tuesday: A 30 percent chance of rain after 4pm.  Partly sunny, with a high near 52. West southwest wind 5 to 8 mph. \" class=\"forecast-icon\"></p><p class=\"short-desc\">Partly Sunny<br>then Chance<br>Rain</p><p class=\"temp temp-high\">High: 52 &deg;F</p></div></li><li class=\"forecast-tombstone\">\\n<div class=\"tombstone-container\">\\n<p class=\"period-name\">Tuesday<br>Night</p>\\n<p><img src=\"newimages/medium/nra60.png\" alt=\"Tuesday Night: Rain likely, mainly after 10pm.  Mostly cloudy, with a low around 43. South southwest wind around 8 mph.  Chance of precipitation is 60%. New precipitation amounts of less than a tenth of an inch possible. \" title=\"Tuesday Night: Rain likely, mainly after 10pm.  Mostly cloudy, with a low around 43. South southwest wind around 8 mph.  Chance of precipitation is 60%. New precipitation amounts of less than a tenth of an inch possible. \" class=\"forecast-icon\"></p><p class=\"short-desc\">Rain Likely</p><p class=\"temp temp-low\">Low: 43 &deg;F</p></div></li><li class=\"forecast-tombstone\">\\n<div class=\"tombstone-container\">\\n<p class=\"period-name\">Wednesday<br><br></p>\\n<p><img src=\"newimages/medium/sct.png\" alt=\"Wednesday: Mostly sunny, with a high near 53.\" title=\"Wednesday: Mostly sunny, with a high near 53.\" class=\"forecast-icon\"></p><p class=\"short-desc\">Mostly Sunny</p><p class=\"temp temp-high\">High: 53 &deg;F</p></div></li><li class=\"forecast-tombstone\">\\n<div class=\"tombstone-container\">\\n<p class=\"period-name\">Wednesday<br>Night</p>\\n<p><img src=\"newimages/medium/nfew.png\" alt=\"Wednesday Night: Mostly clear, with a low around 40.\" title=\"Wednesday Night: Mostly clear, with a low around 40.\" class=\"forecast-icon\"></p><p class=\"short-desc\">Mostly Clear</p><p class=\"temp temp-low\">Low: 40 &deg;F</p></div></li><li class=\"forecast-tombstone\">\\n<div class=\"tombstone-container\">\\n<p class=\"period-name\">Thursday<br><br></p>\\n<p><img src=\"newimages/medium/ra.png\" alt=\"Thursday: Rain likely, mainly after 4pm.  Partly sunny, with a high near 56.\" title=\"Thursday: Rain likely, mainly after 4pm.  Partly sunny, with a high near 56.\" class=\"forecast-icon\"></p><p class=\"short-desc\">Rain Likely</p><p class=\"temp temp-high\">High: 56 &deg;F</p></div></li><li class=\"forecast-tombstone\">\\n<div class=\"tombstone-container\">\\n<p class=\"period-name\">Thursday<br>Night</p>\\n<p><img src=\"newimages/medium/nshra.png\" alt=\"Thursday Night: Rain, mainly before 4am, then showers and possibly a thunderstorm after 4am.  Cloudy, with a low around 46. Breezy. \" title=\"Thursday Night: Rain, mainly before 4am, then showers and possibly a thunderstorm after 4am.  Cloudy, with a low around 46. Breezy. \" class=\"forecast-icon\"></p><p class=\"short-desc\">Showers and<br>Breezy</p><p class=\"temp temp-low\">Low: 46 &deg;F</p></div></li></ul></div>\\n<script type=\"text/javascript\">\\n// equalize forecast heights\\n$(function () {\\n    var maxh = 0;\\n    $(\".forecast-tombstone .short-desc\").each(function () {\\n        var h = $(this).height();\\n        if (h > maxh) { maxh = h; }\\n    });\\n    $(\".forecast-tombstone .short-desc\").height(maxh);\\n});\\n</script>    </div>\\n</div>\\n\\n<!-- Everything between 7-Day Forecast and Footer goes in this row -->\\n<div id=\"floatingDivs\" class=\"row\">\\n    <!-- Everything on the left-hand side -->\\n    <div class=\"col-md-7 col-lg-8\">\\n        <!-- Detailed Forecast -->\\n        <div id=\"detailed-forecast\" class=\"panel panel-default\">\\n        <div class=\"panel-heading\">\\n            <h2 class=\"panel-title\">Detailed Forecast</h2>\\n        </div>\\n        <div class=\"panel-body\" id=\"detailed-forecast-body\">\\n            <div class=\"row row-odd row-forecast\"><div class=\"col-sm-2 forecast-label\"><b>Overnight</b></div><div class=\"col-sm-10 forecast-text\">A 40 percent chance of showers.  Mostly cloudy, with a low around 42. South wind around 6 mph.  New precipitation amounts of less than a tenth of an inch possible. </div></div><div class=\"row row-even row-forecast\"><div class=\"col-sm-2 forecast-label\"><b>Monday</b></div><div class=\"col-sm-10 forecast-text\">A 40 percent chance of rain.  Partly sunny, with a high near 53. Southwest wind 5 to 10 mph.  New precipitation amounts between a tenth and quarter of an inch possible. </div></div><div class=\"row row-odd row-forecast\"><div class=\"col-sm-2 forecast-label\"><b>Monday Night</b></div><div class=\"col-sm-10 forecast-text\">A 30 percent chance of rain.  Mostly cloudy, with a low around 42. Southwest wind around 7 mph.  New precipitation amounts of less than a tenth of an inch possible. </div></div><div class=\"row row-even row-forecast\"><div class=\"col-sm-2 forecast-label\"><b>Tuesday</b></div><div class=\"col-sm-10 forecast-text\">A 30 percent chance of rain after 4pm.  Partly sunny, with a high near 52. West southwest wind 5 to 8 mph. </div></div><div class=\"row row-odd row-forecast\"><div class=\"col-sm-2 forecast-label\"><b>Tuesday Night</b></div><div class=\"col-sm-10 forecast-text\">Rain likely, mainly after 10pm.  Mostly cloudy, with a low around 43. South southwest wind around 8 mph.  Chance of precipitation is 60%. New precipitation amounts of less than a tenth of an inch possible. </div></div><div class=\"row row-even row-forecast\"><div class=\"col-sm-2 forecast-label\"><b>Wednesday</b></div><div class=\"col-sm-10 forecast-text\">Mostly sunny, with a high near 53.</div></div><div class=\"row row-odd row-forecast\"><div class=\"col-sm-2 forecast-label\"><b>Wednesday Night</b></div><div class=\"col-sm-10 forecast-text\">Mostly clear, with a low around 40.</div></div><div class=\"row row-even row-forecast\"><div class=\"col-sm-2 forecast-label\"><b>Thursday</b></div><div class=\"col-sm-10 forecast-text\">Rain likely, mainly after 4pm.  Partly sunny, with a high near 56.</div></div><div class=\"row row-odd row-forecast\"><div class=\"col-sm-2 forecast-label\"><b>Thursday Night</b></div><div class=\"col-sm-10 forecast-text\">Rain, mainly before 4am, then showers and possibly a thunderstorm after 4am.  Cloudy, with a low around 46. Breezy. </div></div><div class=\"row row-even row-forecast\"><div class=\"col-sm-2 forecast-label\"><b>Friday</b></div><div class=\"col-sm-10 forecast-text\">Showers and possibly a thunderstorm before 10am, then rain likely after 10am. Some of the storms could produce small hail.  Mostly cloudy, with a high near 59. Breezy. </div></div><div class=\"row row-odd row-forecast\"><div class=\"col-sm-2 forecast-label\"><b>Friday Night</b></div><div class=\"col-sm-10 forecast-text\">Rain likely.  Cloudy, with a low around 50.</div></div><div class=\"row row-even row-forecast\"><div class=\"col-sm-2 forecast-label\"><b>Saturday</b></div><div class=\"col-sm-10 forecast-text\">A chance of rain.  Mostly cloudy, with a high near 58.</div></div><div class=\"row row-odd row-forecast\"><div class=\"col-sm-2 forecast-label\"><b>Saturday Night</b></div><div class=\"col-sm-10 forecast-text\">A chance of rain.  Mostly cloudy, with a low around 50.</div></div><div class=\"row row-even row-forecast\"><div class=\"col-sm-2 forecast-label\"><b>Sunday</b></div><div class=\"col-sm-10 forecast-text\">A chance of rain.  Partly sunny, with a high near 60.</div></div>        </div>\\n    </div>\\n    <!-- /Detailed Forecast -->\\n\\n        \\n        <!-- Additional Forecasts and Information -->\\n        <div id=\"additional_forecasts\" class=\"panel panel-default\">\\n        <div class=\"panel-heading\">\\n        <h2 class=\"panel-title\">Additional Forecasts and Information</h2>\\n        </div>\\n\\n        <div class=\"panel-body\" id=\"additional-forecasts-body\">\\n        <p class=\"myforecast-location\"><a href=\"MapClick.php?zoneid=CAZ006\">Zone Area Forecast for San Francisco County, CA</a></p>\\n                <!-- First nine-ten links -->\\n        <div id=\"linkBlockContainer\">\\n            <div class=\"linkBlock\">\\n                <ul class=\"list-unstyled\">\\n                    <li><a href=\"//forecast.weather.gov/product.php?site=MTR&issuedby=MTR&product=AFD&format=CI&version=1&glossary=1\">Forecast Discussion</a></li>\\n                    <li><a href=\"MapClick.php?lat=37.7772&lon=-122.4168&unit=0&lg=english&FcstType=text&TextType=2\">Printable Forecast</a></li>\\n                    <li><a href=\"MapClick.php?lat=37.7772&lon=-122.4168&unit=0&lg=english&FcstType=text&TextType=1\">Text Only Forecast</a></li>\\n                </ul>\\n            </div>\\n            <div class=\"linkBlock\">\\n                <ul class=\"list-unstyled\">\\n                    <li><a href=\"MapClick.php?lat=37.7772&lon=-122.4168&unit=0&lg=english&FcstType=graphical\">Hourly Weather Forecast</a></li>\\n                    <li><a href=\"MapClick.php?lat=37.7772&lon=-122.4168&unit=0&lg=english&FcstType=digital\">Tabular Forecast</a></li>\\n                    <!-- <li><a href=\"afm/PointClick.php?lat=37.7772&lon=-122.4168\">Quick Forecast</a></li> -->\\n                </ul>\\n            </div>\\n            <div class=\"linkBlock\">\\n                <ul class=\"list-unstyled\">\\n                    <li><a href=\"//weather.gov/aq/probe_aq_data.php?latitude=37.7772&longitude=-122.4168\">Air Quality Forecasts</a></li>\\n                    <li><a href=\"MapClick.php?lat=37.7772&lon=-122.4168&FcstType=text&unit=1&lg=en\">International System of Units</a></li>\\n                                        <li><a href=\"//www.wrh.noaa.gov/forecast/wxtables/index.php?lat=37.7772&lon=-122.4168\">Forecast Weather Table Interface</a></li>\\n                                    </ul>\\n            </div>\\n            <!-- /First nine-ten links -->\\n                <!-- Additional links -->\\n                    <div class=\"linkBlock\"><ul class=\"list-unstyled\"><li><a href=\"http://www.wrh.noaa.gov/mtr/versprod.php?pil=RR8&sid=RSA\" target=\"_self\">Hourly River Stages</a></li><li><a href=\"http://www.wrh.noaa.gov/mtr/versprod.php?pil=RR5&sid=RSA\" target=\"_self\">Hourly Rainfall</a></li></ul></div><div class=\"linkBlock\"><ul class=\"list-unstyled\"><li><a href=\"http://www.wrh.noaa.gov/mtr/wxlinks.php\" target=\"_self\">NWS Office Map</a></li><li><a href=\"http://www.wrh.noaa.gov/mtr/wx_calculator.php\" target=\"_self\">Weather Calculator</a></li></ul></div><div class=\"linkBlock\"><ul class=\"list-unstyled\"><li><a href=\"http://www.nws.noaa.gov/wtf/udaf/area/?site=mtr\" target=\"_self\">User Defined Area</a></li></ul></div>\\n        </div> <!-- /linkBlockContainer -->\\n        </div><!-- /additional-forecasts-body-->\\n    </div> <!-- /additional_forecasts -->\\n    </div> <!-- /Everything on the left-hand side -->\\n\\n    <!-- right-side-data -->\\n    <div class=\"col-md-5 col-lg-4\" id=\"right-side-data\">\\n    <div id=\"mapAndDescriptionArea\">\\n        <!-- openlayer map -->\\n            <style>\\n#custom-search{\\ndisplay: block;\\nposition: relative;\\nz-index: 50;\\ntop: 52px;\\nleft: 60px;\\n}\\n#esri-geocoder-search{\\ndisplay: block;\\nposition: relative;\\nz-index: 50;\\ntop: 52px;\\nleft: 60px;\\n}\\n#emap{\\nmargin-top:15px;\\ncursor:pointer;\\nheight:370px;\\nwidth:100%;\\nborder: 1px solid #ccc;\\nborder-radius: 3px;\\n}\\n#switch-basemap-container{\\n}\\n#basemap-selection-form ul{\\nlist-style: none;\\n margin: 0px;\\n}\\n#basemap-selection-form li{\\nfloat: left;\\n}\\n.disclaimer{\\nmargin-top:350px;\\nmargin-left: 5px;\\nz-index: 100;\\nposition: absolute;\\ntext-transform: none;\\n}\\n.esriAttributionLastItem{\\ntext-transform: none;\\n}\\n.esriSimpleSlider div{\\nheight:22px;\\nline-height:20px;\\nwidth:20px;\\n}\\n#point-forecast-map-label {\\ntext-align:center;\\nfont-weight:bold;\\ncolor:black;\\n}\\n@media (max-width: 767px) {\\n#emap{\\nmargin-top:.5em;\\nheight:270px;\\n}\\n.disclaimer{\\nmargin-top:250px;\\n}\\n}\\n</style>\\n<!-- forecast-map -->\\n<div class=\\'point-forecast-map\\'>\\n    <div class=\\'point-forecast-map-header text-center\\'>\\n        <div id=\"toolbar\">\\n        <div id=\"switch-basemap-container\">\\n            <div id=\"basemap-selection-form\" title=\"Choose a Basemap\">\\n            <div id=\"basemap-menu\">\\n                <select name=\"basemap-selected\" id=\"basemap-selected\" autocomplete=\"off\" title=\"Basemap Dropdown Menu\">\\n                <option value=\"none\">Select Basemap</option>\\n                <option value=\"topo\" selected>Topographic</option>\\n                <option value=\"streets\">Streets</option>\\n                <option value=\"satellite\">Satellite</option>\\n                <option value=\"ocean\">Ocean</option>\\n                </select>\\n            </div>\\n            </div>\\n            <div id=\"point-forecast-map-label\">\\n                    Click Map For Forecast\\n                </div>\\n        </div><!-- //#switch-basemap-container -->\\n        <div style=\"clear:both;\"></div>\\n        </div><!-- //#toolbar -->\\n    </div><!-- //.point-forecast-map-header -->\\n\\n    <div id=\"emap\">\\n        <noscript><center><br><br><b>Map function requires Javascript and a compatible browser.</b></center></noscript>\\n        <div class=\"disclaimer\"><a href=\\'http://www.weather.gov/disclaimer#esri\\'>Disclaimer</a></div>\\n    </div><!-- //#emap -->\\n\\n    <div class=\"point-forecast-map-footer\">\\n        <img src=\"./images/wtf/maplegend_forecast-area.gif\" width=\"100\" height=\"16\" alt=\"Map Legend\">\\n    </div><!-- //.point-forecast-map-footer -->\\n\\n</div> <!-- //.point-forecast-map -->\\n<!-- //forecast-map -->\\n        <!-- //openlayer map -->\\n\\n        <!-- About this Forecast -->\\n        <div id=\"about_forecast\">\\n            <div class=\"fullRow\">\\n                <div class=\"left\">Point Forecast:</div>\\n                <div class=\"right\">San Francisco CA<br>&nbsp;37.77&deg;N 122.41&deg;W (Elev. 131 ft)</div>\\n                    </div>\\n            <div class=\"fullRow\">\\n                <div class=\"left\"><a target=\"_blank\" href=\"//www.weather.gov/glossary/index.php?word=Last+update\">Last Update</a>: </div>\\n                <div class=\"right\">2:22 am PST Mar 6, 2023</div>\\n            </div>\\n            <div class=\"fullRow\">\\n                <div class=\"left\"><a target=\"_blank\" href=\"//www.weather.gov/glossary/index.php?word=forecast+valid+for\">Forecast Valid</a>: </div>\\n                <div class=\"right\">3am PST Mar 6, 2023-6pm PDT Mar 12, 2023</div>\\n            </div>\\n            <div class=\"fullRow\">\\n                <div class=\"left\">&nbsp;</div>\\n                <div class=\"right\"><a href=\"https://forecast.weather.gov/product.php?site=MTR&issuedby=MTR&product=AFD&format=CI&version=1&glossary=1\">Forecast Discussion</a></div>\\n            </div>\\n            <div class=\"fullRow\">\\n                <div class=\"left\">&nbsp;</div>\\n                <div class=\"right\">\\n                    <a href=\"MapClick.php?lat=37.7772&lon=-122.4168&unit=0&lg=english&FcstType=kml\"><img src=\"/images/wtf/kml_badge.png\" width=\"45\" height=\"17\" alt=\"Get as KML\" /></a>\\n                    <a href=\"MapClick.php?lat=37.7772&lon=-122.4168&unit=0&lg=english&FcstType=dwml\"><img src=\"/images/wtf/xml_badge.png\" width=\"45\" height=\"17\" alt=\"Get as XML\" /></a>\\n                </div>\\n            </div>\\n        </div>\\n        <!-- /About this Forecast -->\\n    </div>\\n    \\n        <!--additionalForecast-->\\n        <div class=\"panel panel-default\" id=\"additionalForecast\">\\n            <div class=\"panel-heading\">\\n                <h2 class=\"panel-title\">Additional Resources</h2>\\n            </div>\\n            <div class=\"panel-body\">\\n\\n                <!-- Radar & Satellite Images -->\\n                <div id=\"radar\" class=\"subItem\">\\n                    <h4>Radar &amp; Satellite Image</h4>\\n                    <a href=\"http://radar.weather.gov/station/kmux/standard\"><img src=\"http://radar.weather.gov/ridge/standard/KMUX_0.gif\" class=\"radar-thumb\" alt=\"Link to Local Radar Data\" title=\"Link to Local Radar Data\"></a>                    <a href=\"https://www.star.nesdis.noaa.gov/GOES/sector.php?sat=G17&sector=psw\"><img src=\"https://cdn.star.nesdis.noaa.gov/GOES17/ABI/SECTOR/psw/GEOCOLOR/600x600.jpg\" class=\"satellite-thumb\" alt=\"Link to Satellite Data\" title=\"Link to Satellite Data\"></a>                </div>\\n                <!-- /Radar & Satellite Images -->\\n                <!-- Hourly Weather Forecast -->\\n                <div id=\"feature\" class=\"subItem\">\\n                    <h4>Hourly Weather Forecast</h4>\\n                    <a href=\"MapClick.php?lat=37.7772&lon=-122.4168&unit=0&lg=english&FcstType=graphical\"><img src=\"newimages/medium/hourlyweather.png\" class=\"img-responsive\" /></a>\\n                </div>\\n                <!-- /Hourly Weather Forecast -->\\n                <!-- NDFD -->\\n                <div id=\"NDFD\" class=\"subItem\">\\n                    <h4>National Digital Forecast Database</h4>\\n                    <div class=\"one-sixth-first\"><a href=\"//graphical.weather.gov/sectors/pacsouthwest.php?element=MaxT\"><img src=\"//graphical.weather.gov/images/thumbnail/latest_MaxMinT_pacsouthwest_thumbnail.png\" border=\"0\" alt=\"National Digital Forecast Database Maximum Temperature Forecast\" title=\"National Digital Forecast Database Maximum Temperature Forecast\" width=\"147\" height=\"150\"></a>\\n                <p><a href=\"//graphical.weather.gov/sectors/pacsouthwest.php?element=MaxT\">High Temperature</a></p></div><div class=\"one-sixth-first\"><a href=\"//graphical.weather.gov/sectors/pacsouthwest.php?element=Wx\"><img src=\"//graphical.weather.gov/images/thumbnail/latest_Wx_pacsouthwest_thumbnail.png\" border=\"0\" alt=\"National Digital Forecast Database Weather Element Forecast\" title=\"National Digital Forecast Database Weather Element Forecast\" width=\"147\" height=\"150\"></a>\\n                <p><a href=\"//graphical.weather.gov/sectors/pacsouthwest.php?element=Wx\">Chance of Precipitation</a></p></div>                </div>\\n                <!-- /NDFD -->\\n            </div>\\n        </div>\\n        <!-- /additionalForecast -->\\n\\n    </div>\\n    <!-- /col-md-4 -->\\n    <!-- /right-side-data -->\\n    <script language=\\'javascript\\'>$( document ).ready(function() { load_openlayers_map(\\'\\', \\'\\', \\'\\', \\'{\"centroid_lat\":\"37.7772\",\"centroid_lon\":\"-122.4168\",\"lat1\":\"37.7595\",\"lon1\":\"-122.4205\",\"lat2\":\"37.781\",\"lon2\":\"-122.426\",\"lat3\":\"37.7855\",\"lon3\":\"-122.3985\",\"lat4\":\"37.764\",\"lon4\":\"-122.393\"}\\') });</script></div>\\n<!-- /row  -->\\n\\n\\n</div>\\n<!-- /PageFormat-Land -->\\n\\n        </div>\\n            <footer>\\n                        <div id=\"sitemap\" class=\"sitemap-content row\">\\n            <div class=\"col-xs-12\">\\n                <div class=\"sitemap-columns\">\\n                                                    <div class=\"sitemap-section\">\\n                                    <div class=\"panel-heading\">\\n                                        <a class=\"sitemap-section-heading\" href=\"http://alerts.weather.gov\">ACTIVE ALERTS</a>\\n                                        <button type=\"button\" class=\"menu-toggle pull-right\" data-toggle=\"collapse\" data-target=\"#sitemap-1\">\\n                                            <span class=\"sr-only\">Toggle menu</span>\\n                                            <span class=\"icon-bar\"></span>\\n                                            <span class=\"icon-bar\"></span>\\n                                            <span class=\"icon-bar\"></span>\\n                                        </button>\\n                                    </div>\\n                                    <div class=\"sitemap-section-body panel-body collapsable collapse\" id=\"sitemap-1\">\\n                                        <ul class=\"list-unstyled\">\\n                                                                                            <li><a href=\" http://alerts.weather.gov\">Warnings By State</a></li>\\n                                                                                                <li><a href=\" http://www.wpc.ncep.noaa.gov/ww.shtml\">Excessive Rainfall and Winter Weather Forecasts</a></li>\\n                                                                                                <li><a href=\"http://water.weather.gov/ahps/?current_color=flood&amp;current_type=all&amp;fcst_type=obs&amp;conus_map=d_map\">River Flooding </a></li>\\n                                                                                                <li><a href=\" http://www.weather.gov\">Latest Warnings</a></li>\\n                                                                                                <li><a href=\" http://www.spc.noaa.gov/products/outlook/\">Thunderstorm/Tornado Outlook </a></li>\\n                                                                                                <li><a href=\" http://www.nhc.noaa.gov/\">Hurricanes </a></li>\\n                                                                                                <li><a href=\" http://www.spc.noaa.gov/products/fire_wx/\">Fire Weather Outlooks </a></li>\\n                                                                                                <li><a href=\" http://www.cpc.ncep.noaa.gov/products/stratosphere/uv_index/uv_alert.shtml\">UV Alerts </a></li>\\n                                                                                                <li><a href=\" http://www.drought.gov/\">Drought </a></li>\\n                                                                                                <li><a href=\"http://www.swpc.noaa.gov/products/alerts-watches-and-warnings\">Space Weather </a></li>\\n                                                                                                <li><a href=\" http://www.nws.noaa.gov/nwr/\">NOAA Weather Radio </a></li>\\n                                                                                                <li><a href=\" http://alerts.weather.gov/\">NWS CAP Feeds </a></li>\\n                                                                                        </ul>\\n                                    </div>\\n                                </div>\\n                                                                <div class=\"sitemap-section\">\\n                                    <div class=\"panel-heading\">\\n                                        <a class=\"sitemap-section-heading\" href=\"https://www.weather.gov/wrh/climate\">PAST WEATHER</a>\\n                                        <button type=\"button\" class=\"menu-toggle pull-right\" data-toggle=\"collapse\" data-target=\"#sitemap-2\">\\n                                            <span class=\"sr-only\">Toggle menu</span>\\n                                            <span class=\"icon-bar\"></span>\\n                                            <span class=\"icon-bar\"></span>\\n                                            <span class=\"icon-bar\"></span>\\n                                        </button>\\n                                    </div>\\n                                    <div class=\"sitemap-section-body panel-body collapsable collapse\" id=\"sitemap-2\">\\n                                        <ul class=\"list-unstyled\">\\n                                                                                            <li><a href=\" http://www.cpc.ncep.noaa.gov/products/MD_index.shtml\">Climate Monitoring </a></li>\\n                                                                                                <li><a href=\"https://www.weather.gov/wrh/climate\">Past Weather </a></li>\\n                                                                                                <li><a href=\"https://www.weather.gov/wrh/climate\">Monthly Temps </a></li>\\n                                                                                                <li><a href=\"https://www.weather.gov/wrh/climate\">Records </a></li>\\n                                                                                                <li><a href=\"https://www.esrl.noaa.gov/gmd/grad/solcalc/sunrise.html\">Astronomical Data </a></li>\\n                                                                                                <li><a href=\"https://www.climate.gov/maps-data/dataset/past-weather-zip-code-data-table\">Certified Weather Data </a></li>\\n                                                                                        </ul>\\n                                    </div>\\n                                </div>\\n                                                                <div class=\"sitemap-section\">\\n                                    <div class=\"panel-heading\">\\n                                        <a class=\"sitemap-section-heading\" href=\"http://www.weather.gov/current\">CURRENT CONDITIONS</a>\\n                                        <button type=\"button\" class=\"menu-toggle pull-right\" data-toggle=\"collapse\" data-target=\"#sitemap-3\">\\n                                            <span class=\"sr-only\">Toggle menu</span>\\n                                            <span class=\"icon-bar\"></span>\\n                                            <span class=\"icon-bar\"></span>\\n                                            <span class=\"icon-bar\"></span>\\n                                        </button>\\n                                    </div>\\n                                    <div class=\"sitemap-section-body panel-body collapsable collapse\" id=\"sitemap-3\">\\n                                        <ul class=\"list-unstyled\">\\n                                                                                            <li><a href=\" https://radar.weather.gov\">Radar </a></li>\\n                                                                                                <li><a href=\"http://www.cpc.ncep.noaa.gov/products/monitoring_and_data/\">Climate Monitoring </a></li>\\n                                                                                                <li><a href=\" http://water.weather.gov/ahps/\">River Levels </a></li>\\n                                                                                                <li><a href=\" http://water.weather.gov/precip/\">Observed Precipitation </a></li>\\n                                                                                                <li><a href=\"https://www.wpc.ncep.noaa.gov/sfc/sfcobs/sfcobs.shtml\">Surface Weather </a></li>\\n                                                                                                <li><a href=\"http://www.spc.noaa.gov/obswx/maps/\">Upper Air </a></li>\\n                                                                                                <li><a href=\" http://www.ndbc.noaa.gov/\">Marine and Buoy Reports </a></li>\\n                                                                                                <li><a href=\"http://www.nohrsc.noaa.gov/interactive/html/map.html\">Snow Cover </a></li>\\n                                                                                                <li><a href=\" http://www.weather.gov/satellite\">Satellite </a></li>\\n                                                                                                <li><a href=\" http://www.swpc.noaa.gov/\">Space Weather </a></li>\\n                                                                                                <li><a href=\"http://www.weather.gov/pr\">International Observations</a></li>\\n                                                                                        </ul>\\n                                    </div>\\n                                </div>\\n                                                                <div class=\"sitemap-section\">\\n                                    <div class=\"panel-heading\">\\n                                        <a class=\"sitemap-section-heading\" href=\"http://weather.gov/forecastmaps\">FORECAST</a>\\n                                        <button type=\"button\" class=\"menu-toggle pull-right\" data-toggle=\"collapse\" data-target=\"#sitemap-4\">\\n                                            <span class=\"sr-only\">Toggle menu</span>\\n                                            <span class=\"icon-bar\"></span>\\n                                            <span class=\"icon-bar\"></span>\\n                                            <span class=\"icon-bar\"></span>\\n                                        </button>\\n                                    </div>\\n                                    <div class=\"sitemap-section-body panel-body collapsable collapse\" id=\"sitemap-4\">\\n                                        <ul class=\"list-unstyled\">\\n                                                                                            <li><a href=\" http://www.weather.gov/\">Local Forecast </a></li>\\n                                                                                                <li><a href=\"http://www.weather.gov/pr\">International Forecasts</a></li>\\n                                                                                                <li><a href=\" http://www.spc.noaa.gov/\">Severe Weather </a></li>\\n                                                                                                <li><a href=\" http://www.wpc.ncep.noaa.gov/\">Current Outlook Maps </a></li>\\n                                                                                                <li><a href=\"http://www.cpc.ncep.noaa.gov/products/Drought\">Drought </a></li>\\n                                                                                                <li><a href=\"http://www.weather.gov/fire\">Fire Weather </a></li>\\n                                                                                                <li><a href=\" http://www.wpc.ncep.noaa.gov/\">Fronts/Precipitation Maps </a></li>\\n                                                                                                <li><a href=\" http://www.nws.noaa.gov/forecasts/graphical/\">Current Graphical Forecast Maps </a></li>\\n                                                                                                <li><a href=\"http://water.weather.gov/ahps/forecasts.php\">Rivers </a></li>\\n                                                                                                <li><a href=\"https://www.weather.gov/marine/\">Marine </a></li>\\n                                                                                                <li><a href=\"https://ocean.weather.gov/marine_areas.php\">Offshore and High Seas</a></li>\\n                                                                                                <li><a href=\" http://www.nhc.noaa.gov/\">Hurricanes </a></li>\\n                                                                                                <li><a href=\" http://aviationweather.gov\">Aviation Weather </a></li>\\n                                                                                                <li><a href=\"http://www.cpc.ncep.noaa.gov/products/OUTLOOKS_index.shtml\">Climatic Outlook </a></li>\\n                                                                                        </ul>\\n                                    </div>\\n                                </div>\\n                                                                <div class=\"sitemap-section\">\\n                                    <div class=\"panel-heading\">\\n                                        <a class=\"sitemap-section-heading\" href=\"http://www.weather.gov/informationcenter\">INFORMATION CENTER</a>\\n                                        <button type=\"button\" class=\"menu-toggle pull-right\" data-toggle=\"collapse\" data-target=\"#sitemap-5\">\\n                                            <span class=\"sr-only\">Toggle menu</span>\\n                                            <span class=\"icon-bar\"></span>\\n                                            <span class=\"icon-bar\"></span>\\n                                            <span class=\"icon-bar\"></span>\\n                                        </button>\\n                                    </div>\\n                                    <div class=\"sitemap-section-body panel-body collapsable collapse\" id=\"sitemap-5\">\\n                                        <ul class=\"list-unstyled\">\\n                                                                                            <li><a href=\" http://www.spaceweather.gov\">Space Weather </a></li>\\n                                                                                                <li><a href=\"http://www.weather.gov/briefing/\">Daily Briefing </a></li>\\n                                                                                                <li><a href=\" http://www.nws.noaa.gov/om/marine/home.htm\">Marine </a></li>\\n                                                                                                <li><a href=\"https://www.weather.gov/wrh/climate\">Climate </a></li>\\n                                                                                                <li><a href=\"http://www.weather.gov/fire\">Fire Weather </a></li>\\n                                                                                                <li><a href=\" http://www.aviationweather.gov/\">Aviation </a></li>\\n                                                                                                <li><a href=\"http://mag.ncep.noaa.gov/\">Forecast Models </a></li>\\n                                                                                                <li><a href=\"http://water.weather.gov/ahps/\">Water </a></li>\\n                                                                                                <li><a href=\"https://www.weather.gov/gis/\">GIS</a></li>\\n                                                                                                <li><a href=\" http://www.nws.noaa.gov/om/coop/\">Cooperative Observers </a></li>\\n                                                                                                <li><a href=\"https://www.weather.gov/skywarn/\">Storm Spotters </a></li>\\n                                                                                                <li><a href=\"http://www.tsunami.gov\">Tsunami Warning System</a></li>\\n                                                                                                <li><a href=\"http://water.noaa.gov/\">National Water Center</a></li>\\n                                                                                                <li><a href=\"http://www.weather.gov/pr\">International Weather</a></li>\\n                                                                                        </ul>\\n                                    </div>\\n                                </div>\\n                                                                <div class=\"sitemap-section\">\\n                                    <div class=\"panel-heading\">\\n                                        <a class=\"sitemap-section-heading\" href=\"http://weather.gov/safety\">WEATHER SAFETY</a>\\n                                        <button type=\"button\" class=\"menu-toggle pull-right\" data-toggle=\"collapse\" data-target=\"#sitemap-6\">\\n                                            <span class=\"sr-only\">Toggle menu</span>\\n                                            <span class=\"icon-bar\"></span>\\n                                            <span class=\"icon-bar\"></span>\\n                                            <span class=\"icon-bar\"></span>\\n                                        </button>\\n                                    </div>\\n                                    <div class=\"sitemap-section-body panel-body collapsable collapse\" id=\"sitemap-6\">\\n                                        <ul class=\"list-unstyled\">\\n                                                                                            <li><a href=\"http://www.weather.gov/nwr/\">NOAA Weather Radio</a></li>\\n                                                                                                <li><a href=\"http://www.weather.gov/stormready/\">StormReady</a></li>\\n                                                                                                <li><a href=\"http://www.nws.noaa.gov/om/heat/index.shtml\">Heat </a></li>\\n                                                                                                <li><a href=\"https://www.weather.gov/safety/lightning\">Lightning </a></li>\\n                                                                                                <li><a href=\" http://www.nhc.noaa.gov/prepare/\">Hurricanes </a></li>\\n                                                                                                <li><a href=\"http://www.nws.noaa.gov/om/thunderstorm/\">Thunderstorms </a></li>\\n                                                                                                <li><a href=\"https://www.weather.gov/safety/tornado\">Tornadoes </a></li>\\n                                                                                                <li><a href=\"https://www.weather.gov/safety/ripcurrent\">Rip Currents </a></li>\\n                                                                                                <li><a href=\"https://www.weather.gov/safety/flood\">Floods </a></li>\\n                                                                                                <li><a href=\"https://www.weather.gov/safety/tsunami\">Tsunamis</a></li>\\n                                                                                                <li><a href=\"https://www.weather.gov/tsunamiready/\">TsunamiReady</a></li>\\n                                                                                                <li><a href=\" http://www.weather.gov/om/winter/index.shtml\">Winter Weather </a></li>\\n                                                                                                <li><a href=\"http://www.nws.noaa.gov/om/heat/uv.shtml\">Ultra Violet Radiation </a></li>\\n                                                                                                <li><a href=\" http://www.weather.gov/airquality/\">Air Quality </a></li>\\n                                                                                                <li><a href=\" http://www.weather.gov/om/hazstats.shtml\">Damage/Fatality/Injury Statistics </a></li>\\n                                                                                                <li><a href=\" http://www.redcross.org/\">Red Cross </a></li>\\n                                                                                                <li><a href=\" http://www.fema.gov/\">Federal Emergency Management Agency (FEMA) </a></li>\\n                                                                                                <li><a href=\" http://www.weather.gov/om/brochures.shtml\">Brochures </a></li>\\n                                                                                                <li><a href=\"http://www.nws.noaa.gov/os/marine/safeboating/\">Safe Boating</a></li>\\n                                                                                        </ul>\\n                                    </div>\\n                                </div>\\n                                                                <div class=\"sitemap-section\">\\n                                    <div class=\"panel-heading\">\\n                                        <a class=\"sitemap-section-heading\" href=\"http://weather.gov/news\">NEWS</a>\\n                                        <button type=\"button\" class=\"menu-toggle pull-right\" data-toggle=\"collapse\" data-target=\"#sitemap-7\">\\n                                            <span class=\"sr-only\">Toggle menu</span>\\n                                            <span class=\"icon-bar\"></span>\\n                                            <span class=\"icon-bar\"></span>\\n                                            <span class=\"icon-bar\"></span>\\n                                        </button>\\n                                    </div>\\n                                    <div class=\"sitemap-section-body panel-body collapsable collapse\" id=\"sitemap-7\">\\n                                        <ul class=\"list-unstyled\">\\n                                                                                            <li><a href=\" http://weather.gov/news\">Newsroom</a></li>\\n                                                                                                <li><a href=\" http://weather.gov/socialmedia\">Social Media </a></li>\\n                                                                                                <li><a href=\"http://www.nws.noaa.gov/com/weatherreadynation/calendar.html\">Events</a></li>\\n                                                                                                <li><a href=\" http://www.weather.gov/om/brochures.shtml\">Pubs/Brochures/Booklets </a></li>\\n                                                                                        </ul>\\n                                    </div>\\n                                </div>\\n                                                                <div class=\"sitemap-section\">\\n                                    <div class=\"panel-heading\">\\n                                        <a class=\"sitemap-section-heading\" href=\"http://weather.gov/owlie\">EDUCATION</a>\\n                                        <button type=\"button\" class=\"menu-toggle pull-right\" data-toggle=\"collapse\" data-target=\"#sitemap-8\">\\n                                            <span class=\"sr-only\">Toggle menu</span>\\n                                            <span class=\"icon-bar\"></span>\\n                                            <span class=\"icon-bar\"></span>\\n                                            <span class=\"icon-bar\"></span>\\n                                        </button>\\n                                    </div>\\n                                    <div class=\"sitemap-section-body panel-body collapsable collapse\" id=\"sitemap-8\">\\n                                        <ul class=\"list-unstyled\">\\n                                                                                            <li><a href=\"http://weather.gov/education\">NWS Education Home</a></li>\\n                                                                                                <li><a href=\"http://www.nws.noaa.gov/com/weatherreadynation/force.html\">Be A Force of Nature</a></li>\\n                                                                                                <li><a href=\" http://www.education.noaa.gov/Weather_and_Atmosphere/\">NOAA Education Resources </a></li>\\n                                                                                                <li><a href=\" http://www.weather.gov/glossary/\">Glossary </a></li>\\n                                                                                                <li><a href=\"https://www.weather.gov/jetstream/\">JetStream </a></li>\\n                                                                                                <li><a href=\" http://www.weather.gov/training/\">NWS Training Portal </a></li>\\n                                                                                                <li><a href=\"https://library.noaa.gov/\">NOAA Library </a></li>\\n                                                                                                <li><a href=\"http://weather.gov/owlie\">For Students, Parents and Teachers</a></li>\\n                                                                                                <li><a href=\"http://www.weather.gov/owlie/publication_brochures\">Brochures </a></li>\\n                                                                                        </ul>\\n                                    </div>\\n                                </div>\\n                                                                <div class=\"sitemap-section\">\\n                                    <div class=\"panel-heading\">\\n                                        <a class=\"sitemap-section-heading\" href=\"http://weather.gov/about\">ABOUT</a>\\n                                        <button type=\"button\" class=\"menu-toggle pull-right\" data-toggle=\"collapse\" data-target=\"#sitemap-9\">\\n                                            <span class=\"sr-only\">Toggle menu</span>\\n                                            <span class=\"icon-bar\"></span>\\n                                            <span class=\"icon-bar\"></span>\\n                                            <span class=\"icon-bar\"></span>\\n                                        </button>\\n                                    </div>\\n                                    <div class=\"sitemap-section-body panel-body collapsable collapse\" id=\"sitemap-9\">\\n                                        <ul class=\"list-unstyled\">\\n                                                                                            <li><a href=\"http://weather.gov/organization\">Organization </a></li>\\n                                                                                                <li><a href=\"https://www.weather.gov/media/wrn/NWS_Weather-Ready-Nation_Strategic_Plan_2019-2022.pdf\">Strategic Plan </a></li>\\n                                                                                                <li><a href=\"https:/weather.gov/insider\">For NWS Employees </a></li>\\n                                                                                                <li><a href=\"https://www.weather.gov/international/\">International </a></li>\\n                                                                                                <li><a href=\"http://www.ncep.noaa.gov/\">National Centers </a></li>\\n                                                                                                <li><a href=\" http://www.weather.gov/tg/\">Products and Services </a></li>\\n                                                                                                <li><a href=\"http://www.weather.gov/careers/\">Careers</a></li>\\n                                                                                                <li><a href=\" http://www.weather.gov/glossary/\">Glossary </a></li>\\n                                                                                                <li><a href=\"http://weather.gov/contact\">Contact Us </a></li>\\n                                                                                        </ul>\\n                                    </div>\\n                                </div>\\n                                                </div>\\n            </div>\\n        </div>\\n        \\n                <!-- legal footer area -->\\n                        <div class=\"footer-legal\">\\n            <div id=\"footerLogo\" class=\"col-xs-12 col-sm-2 col-md-2\">\\n                <a href=\"//www.usa.gov\"><img src=\"/css/images/usa_gov.png\" alt=\"usa.gov\" width=\"110\" height=\"30\" /></a>\\n            </div>\\n            <div class=\"col-xs-12 col-sm-4 col-md-4\">\\n                <ul class=\"list-unstyled footer-legal-content\">\\n                <li><a href=\"//www.commerce.gov\">US Dept of Commerce</a></li>\\n                <li><a href=\"//www.noaa.gov\">National Oceanic and Atmospheric Administration</a></li>\\n                <li><a href=\"//www.weather.gov\">National Weather Service</a></li>\\n                <li><a href=\"https://www.weather.gov/mtr\">San Francisco Bay Area, CA</a></li><li><br /><a href=\"mailto:w-mtr.webmaster@noaa.gov\">Comments? Questions? Please Contact Us.</a></li>                </ul>\\n            </div>\\n            <div class=\"col-xs-12 col-sm-3 col-md-3\">\\n                <ul class=\"list-unstyled\">\\n                    <li><a href=\"https://www.weather.gov/disclaimer\">Disclaimer</a></li>\\n                    <li><a href=\"//www.cio.noaa.gov/services_programs/info_quality.html\">Information Quality</a></li>\\n                    <li><a href=\"https://www.weather.gov/help\">Help</a></li>\\n                    <li><a href=\"//www.weather.gov/glossary\">Glossary</a></li>\\n                </ul>\\n            </div>\\n            <div class=\"col-xs-12 col-sm-3 col-md-3\">\\n                <ul class=\"list-unstyled\">\\n                    <li><a href=\"https://www.weather.gov/privacy\">Privacy Policy</a></li>\\n                    <li><a href=\"https://www.noaa.gov/foia-freedom-of-information-act\">Freedom of Information Act (FOIA)</a></li>\\n                    <li><a href=\"https://www.weather.gov/about\">About Us</a></li>\\n                    <li><a href=\"https://www.weather.gov/careers\">Career Opportunities</a></li>\\n                </ul>\\n            </div>\\n        </div>\\n        \\n            </footer>\\n        </main>\\n    </body>\\n</html>\\n'"
      ]
     },
     "execution_count": 25,
     "metadata": {},
     "output_type": "execute_result"
    }
   ],
   "source": [
    "import requests as rs\n",
    "from bs4 import BeautifulSoup\n",
    "\n",
    "page1 = rs.get(\"http://forecast.weather.gov/MapClick.php?lat=37.7772&lon=-122.4168\")\n",
    "page1.content"
   ]
  },
  {
   "cell_type": "code",
   "execution_count": 37,
   "id": "0f3bf7ee",
   "metadata": {},
   "outputs": [],
   "source": [
    "soup = BeautifulSoup(page1.content,'html.parser')\n",
    "seven_day = soup.find(id = \"seven-day-forecast\")\n",
    "forecast = soup.find_all(class_ = \"tombstone-container\")\n",
    "today = forecast[0]"
   ]
  },
  {
   "cell_type": "code",
   "execution_count": 38,
   "id": "b3f4781c",
   "metadata": {},
   "outputs": [
    {
     "data": {
      "text/plain": [
       "9"
      ]
     },
     "execution_count": 38,
     "metadata": {},
     "output_type": "execute_result"
    }
   ],
   "source": [
    "len(forecast)"
   ]
  },
  {
   "cell_type": "code",
   "execution_count": 49,
   "id": "c0bafffb",
   "metadata": {},
   "outputs": [
    {
     "name": "stdout",
     "output_type": "stream",
     "text": [
      "Overnight\n",
      "ChanceShowers\n"
     ]
    }
   ],
   "source": [
    "period = today.find(class_=\"period-name\").get_text()\n",
    "short_desc = today.find(class_=\"short-desc\").get_text()\n",
    "print(period)\n",
    "print(short_desc)"
   ]
  },
  {
   "cell_type": "code",
   "execution_count": 66,
   "id": "43a418d0",
   "metadata": {},
   "outputs": [
    {
     "data": {
      "text/html": [
       "<div>\n",
       "<style scoped>\n",
       "    .dataframe tbody tr th:only-of-type {\n",
       "        vertical-align: middle;\n",
       "    }\n",
       "\n",
       "    .dataframe tbody tr th {\n",
       "        vertical-align: top;\n",
       "    }\n",
       "\n",
       "    .dataframe thead th {\n",
       "        text-align: right;\n",
       "    }\n",
       "</style>\n",
       "<table border=\"1\" class=\"dataframe\">\n",
       "  <thead>\n",
       "    <tr style=\"text-align: right;\">\n",
       "      <th></th>\n",
       "      <th>period</th>\n",
       "      <th>short-desc</th>\n",
       "    </tr>\n",
       "  </thead>\n",
       "  <tbody>\n",
       "    <tr>\n",
       "      <th>0</th>\n",
       "      <td>Overnight</td>\n",
       "      <td>ChanceShowers</td>\n",
       "    </tr>\n",
       "    <tr>\n",
       "      <th>1</th>\n",
       "      <td>Monday</td>\n",
       "      <td>Chance Rain</td>\n",
       "    </tr>\n",
       "    <tr>\n",
       "      <th>2</th>\n",
       "      <td>MondayNight</td>\n",
       "      <td>Chance Rain</td>\n",
       "    </tr>\n",
       "    <tr>\n",
       "      <th>3</th>\n",
       "      <td>Tuesday</td>\n",
       "      <td>Partly Sunnythen ChanceRain</td>\n",
       "    </tr>\n",
       "    <tr>\n",
       "      <th>4</th>\n",
       "      <td>TuesdayNight</td>\n",
       "      <td>Rain Likely</td>\n",
       "    </tr>\n",
       "    <tr>\n",
       "      <th>5</th>\n",
       "      <td>Wednesday</td>\n",
       "      <td>Mostly Sunny</td>\n",
       "    </tr>\n",
       "    <tr>\n",
       "      <th>6</th>\n",
       "      <td>WednesdayNight</td>\n",
       "      <td>Mostly Clear</td>\n",
       "    </tr>\n",
       "    <tr>\n",
       "      <th>7</th>\n",
       "      <td>Thursday</td>\n",
       "      <td>Rain Likely</td>\n",
       "    </tr>\n",
       "    <tr>\n",
       "      <th>8</th>\n",
       "      <td>ThursdayNight</td>\n",
       "      <td>Showers andBreezy</td>\n",
       "    </tr>\n",
       "  </tbody>\n",
       "</table>\n",
       "</div>"
      ],
      "text/plain": [
       "           period                   short-desc\n",
       "0       Overnight                ChanceShowers\n",
       "1          Monday                  Chance Rain\n",
       "2     MondayNight                  Chance Rain\n",
       "3         Tuesday  Partly Sunnythen ChanceRain\n",
       "4    TuesdayNight                  Rain Likely\n",
       "5       Wednesday                 Mostly Sunny\n",
       "6  WednesdayNight                 Mostly Clear\n",
       "7        Thursday                  Rain Likely\n",
       "8   ThursdayNight            Showers andBreezy"
      ]
     },
     "execution_count": 66,
     "metadata": {},
     "output_type": "execute_result"
    }
   ],
   "source": [
    "period_tags = seven_day.select(\".tombstone-container .short-desc\")\n",
    "periods = [pt.get_text() for pt in seven_day.select(\".tombstone-container .period-name\")]\n",
    "desc = [sd.get_text() for sd in period_tags]\n",
    "import pandas as pd\n",
    "weather = pd.DataFrame({\n",
    "    \"period\":periods,\n",
    "    \"short-desc\":desc\n",
    "})\n",
    "weather"
   ]
  },
  {
   "cell_type": "code",
   "execution_count": null,
   "id": "ebee67aa",
   "metadata": {},
   "outputs": [],
   "source": []
  }
 ],
 "metadata": {
  "kernelspec": {
   "display_name": "Python 3",
   "language": "python",
   "name": "python3"
  },
  "language_info": {
   "codemirror_mode": {
    "name": "ipython",
    "version": 3
   },
   "file_extension": ".py",
   "mimetype": "text/x-python",
   "name": "python",
   "nbconvert_exporter": "python",
   "pygments_lexer": "ipython3",
   "version": "3.8.8"
  }
 },
 "nbformat": 4,
 "nbformat_minor": 5
}
